{
 "cells": [
  {
   "cell_type": "code",
   "execution_count": 1,
   "metadata": {},
   "outputs": [],
   "source": [
    "import numpy as np\n",
    "import pandas as pd"
   ]
  },
  {
   "cell_type": "code",
   "execution_count": 2,
   "metadata": {},
   "outputs": [],
   "source": [
    "data=pd.read_csv(\"Social_Network_Ads.csv\")"
   ]
  },
  {
   "cell_type": "code",
   "execution_count": 3,
   "metadata": {},
   "outputs": [
    {
     "name": "stdout",
     "output_type": "stream",
     "text": [
      "<class 'pandas.core.frame.DataFrame'>\n",
      "RangeIndex: 400 entries, 0 to 399\n",
      "Data columns (total 5 columns):\n",
      " #   Column           Non-Null Count  Dtype \n",
      "---  ------           --------------  ----- \n",
      " 0   User ID          400 non-null    int64 \n",
      " 1   Gender           400 non-null    object\n",
      " 2   Age              400 non-null    int64 \n",
      " 3   EstimatedSalary  400 non-null    int64 \n",
      " 4   Purchased        400 non-null    int64 \n",
      "dtypes: int64(4), object(1)\n",
      "memory usage: 15.8+ KB\n"
     ]
    }
   ],
   "source": [
    "data.info()"
   ]
  },
  {
   "cell_type": "code",
   "execution_count": 4,
   "metadata": {},
   "outputs": [
    {
     "data": {
      "text/html": [
       "<div>\n",
       "<style scoped>\n",
       "    .dataframe tbody tr th:only-of-type {\n",
       "        vertical-align: middle;\n",
       "    }\n",
       "\n",
       "    .dataframe tbody tr th {\n",
       "        vertical-align: top;\n",
       "    }\n",
       "\n",
       "    .dataframe thead th {\n",
       "        text-align: right;\n",
       "    }\n",
       "</style>\n",
       "<table border=\"1\" class=\"dataframe\">\n",
       "  <thead>\n",
       "    <tr style=\"text-align: right;\">\n",
       "      <th></th>\n",
       "      <th>User ID</th>\n",
       "      <th>Gender</th>\n",
       "      <th>Age</th>\n",
       "      <th>EstimatedSalary</th>\n",
       "      <th>Purchased</th>\n",
       "    </tr>\n",
       "  </thead>\n",
       "  <tbody>\n",
       "    <tr>\n",
       "      <th>0</th>\n",
       "      <td>15624510</td>\n",
       "      <td>Male</td>\n",
       "      <td>19</td>\n",
       "      <td>19000</td>\n",
       "      <td>0</td>\n",
       "    </tr>\n",
       "    <tr>\n",
       "      <th>1</th>\n",
       "      <td>15810944</td>\n",
       "      <td>Male</td>\n",
       "      <td>35</td>\n",
       "      <td>20000</td>\n",
       "      <td>0</td>\n",
       "    </tr>\n",
       "    <tr>\n",
       "      <th>2</th>\n",
       "      <td>15668575</td>\n",
       "      <td>Female</td>\n",
       "      <td>26</td>\n",
       "      <td>43000</td>\n",
       "      <td>0</td>\n",
       "    </tr>\n",
       "    <tr>\n",
       "      <th>3</th>\n",
       "      <td>15603246</td>\n",
       "      <td>Female</td>\n",
       "      <td>27</td>\n",
       "      <td>57000</td>\n",
       "      <td>0</td>\n",
       "    </tr>\n",
       "    <tr>\n",
       "      <th>4</th>\n",
       "      <td>15804002</td>\n",
       "      <td>Male</td>\n",
       "      <td>19</td>\n",
       "      <td>76000</td>\n",
       "      <td>0</td>\n",
       "    </tr>\n",
       "  </tbody>\n",
       "</table>\n",
       "</div>"
      ],
      "text/plain": [
       "    User ID  Gender  Age  EstimatedSalary  Purchased\n",
       "0  15624510    Male   19            19000          0\n",
       "1  15810944    Male   35            20000          0\n",
       "2  15668575  Female   26            43000          0\n",
       "3  15603246  Female   27            57000          0\n",
       "4  15804002    Male   19            76000          0"
      ]
     },
     "execution_count": 4,
     "metadata": {},
     "output_type": "execute_result"
    }
   ],
   "source": [
    "data.head()"
   ]
  },
  {
   "cell_type": "code",
   "execution_count": 5,
   "metadata": {},
   "outputs": [
    {
     "data": {
      "text/plain": [
       "0    257\n",
       "1    143\n",
       "Name: Purchased, dtype: int64"
      ]
     },
     "execution_count": 5,
     "metadata": {},
     "output_type": "execute_result"
    }
   ],
   "source": [
    "data['Purchased'].value_counts()"
   ]
  },
  {
   "cell_type": "code",
   "execution_count": 6,
   "metadata": {},
   "outputs": [],
   "source": [
    "import seaborn as sns"
   ]
  },
  {
   "cell_type": "code",
   "execution_count": 12,
   "metadata": {},
   "outputs": [
    {
     "data": {
      "text/plain": [
       "<matplotlib.axes._subplots.AxesSubplot at 0x21e80f93730>"
      ]
     },
     "execution_count": 12,
     "metadata": {},
     "output_type": "execute_result"
    },
    {
     "data": {
      "image/png": "[encoded data removed]",
      "text/plain": [
       "<Figure size 432x288 with 2 Axes>"
      ]
     },
     "metadata": {
      "needs_background": "light"
     },
     "output_type": "display_data"
    }
   ],
   "source": [
    "sns.heatmap(data.corr(),annot=True)"
   ]
  },
  {
   "cell_type": "markdown",
   "metadata": {},
   "source": [
    "# Rules for classification ,if you use sklearn\n",
    "## 1 Data must be complete\n",
    "## 2 features must be numeric , labels can be numeric or not\n",
    "## 3 Data must be represented in numpy array\n",
    "## 4 features must be 2D array\n",
    "## 5 labels in 1D array"
   ]
  },
  {
   "cell_type": "code",
   "execution_count": 33,
   "metadata": {},
   "outputs": [],
   "source": [
    "# seperate data into features and lables\n",
    "features= data[['Age','EstimatedSalary']]\n",
    "labels=data['Purchased']"
   ]
  },
  {
   "cell_type": "code",
   "execution_count": 18,
   "metadata": {},
   "outputs": [],
   "source": [
    "# supress warnings\n",
    "import warnings\n",
    "warnings.filterwarnings('ignore')"
   ]
  },
  {
   "cell_type": "code",
   "execution_count": 34,
   "metadata": {},
   "outputs": [],
   "source": [
    "from sklearn.model_selection import train_test_split\n",
    "X_train,X_test,y_train,y_test=train_test_split(features,labels,test_size=.2,random_state=10)\n",
    "\n",
    "from sklearn.linear_model import LogisticRegression\n",
    "model=LogisticRegression()\n",
    "model.fit(X_train,y_train)\n",
    "\n",
    "train_s=model.score(X_train,y_train)\n",
    "test_s=model.score(X_test,y_test)"
   ]
  },
  {
   "cell_type": "code",
   "execution_count": 24,
   "metadata": {},
   "outputs": [
    {
     "data": {
      "text/plain": [
       "(0.640625, 0.65)"
      ]
     },
     "execution_count": 24,
     "metadata": {},
     "output_type": "execute_result"
    }
   ],
   "source": [
    "train_s,test_s\n"
   ]
  },
  {
   "cell_type": "markdown",
   "metadata": {},
   "source": [
    "# for best random state"
   ]
  },
  {
   "cell_type": "code",
   "execution_count": 37,
   "metadata": {},
   "outputs": [
    {
     "name": "stdout",
     "output_type": "stream",
     "text": [
      "Test0.6875 Train0.63125 RS3\n",
      "Test0.7375 Train0.61875 RS4\n",
      "Test0.6625 Train0.6375 RS5\n",
      "Test0.65 Train0.640625 RS6\n",
      "Test0.675 Train0.634375 RS7\n",
      "Test0.675 Train0.634375 RS8\n",
      "Test0.65 Train0.640625 RS10\n",
      "Test0.6625 Train0.6375 RS11\n",
      "Test0.7125 Train0.625 RS13\n",
      "Test0.675 Train0.634375 RS16\n",
      "Test0.7 Train0.628125 RS17\n",
      "Test0.7 Train0.628125 RS21\n",
      "Test0.65 Train0.640625 RS24\n",
      "Test0.6625 Train0.6375 RS25\n",
      "Test0.75 Train0.615625 RS26\n",
      "Test0.675 Train0.634375 RS27\n",
      "Test0.7 Train0.628125 RS28\n",
      "Test0.6875 Train0.63125 RS29\n",
      "Test0.6875 Train0.63125 RS31\n",
      "Test0.6625 Train0.6375 RS37\n",
      "Test0.7 Train0.628125 RS39\n",
      "Test0.7 Train0.628125 RS40\n",
      "Test0.65 Train0.640625 RS42\n",
      "Test0.725 Train0.621875 RS46\n",
      "Test0.65 Train0.640625 RS48\n",
      "Test0.675 Train0.634375 RS50\n",
      "Test0.65 Train0.640625 RS51\n",
      "Test0.65 Train0.640625 RS54\n",
      "Test0.7 Train0.634375 RS55\n",
      "Test0.65 Train0.640625 RS56\n",
      "Test0.6625 Train0.6375 RS58\n",
      "Test0.6875 Train0.63125 RS59\n",
      "Test0.7 Train0.628125 RS60\n",
      "Test0.6625 Train0.6375 RS62\n",
      "Test0.6875 Train0.63125 RS63\n",
      "Test0.65 Train0.640625 RS66\n",
      "Test0.7 Train0.628125 RS70\n",
      "Test0.65 Train0.640625 RS74\n",
      "Test0.65 Train0.640625 RS75\n",
      "Test0.6875 Train0.63125 RS76\n",
      "Test0.6875 Train0.63125 RS80\n",
      "Test0.675 Train0.634375 RS81\n",
      "Test0.875 Train0.8375 RS82\n",
      "Test0.7 Train0.628125 RS83\n",
      "Test0.675 Train0.634375 RS84\n",
      "Test0.675 Train0.634375 RS86\n",
      "Test0.65 Train0.640625 RS87\n",
      "Test0.675 Train0.634375 RS90\n",
      "Test0.65 Train0.640625 RS91\n",
      "Test0.7 Train0.628125 RS93\n",
      "Test0.7375 Train0.61875 RS94\n",
      "Test0.65 Train0.640625 RS97\n",
      "Test0.7 Train0.628125 RS99\n",
      "Test0.675 Train0.634375 RS101\n",
      "Test0.6625 Train0.6375 RS102\n",
      "Test0.725 Train0.621875 RS103\n",
      "Test0.65 Train0.640625 RS106\n",
      "Test0.65 Train0.640625 RS109\n",
      "Test0.75 Train0.615625 RS114\n",
      "Test0.675 Train0.634375 RS116\n",
      "Test0.65 Train0.640625 RS117\n",
      "Test0.675 Train0.634375 RS119\n",
      "Test0.65 Train0.640625 RS120\n",
      "Test0.6625 Train0.6375 RS121\n",
      "Test0.725 Train0.621875 RS125\n",
      "Test0.65 Train0.640625 RS127\n",
      "Test0.65 Train0.640625 RS128\n",
      "Test0.6875 Train0.63125 RS129\n",
      "Test0.6875 Train0.63125 RS130\n",
      "Test0.6625 Train0.6375 RS132\n",
      "Test0.6875 Train0.63125 RS133\n",
      "Test0.675 Train0.634375 RS134\n",
      "Test0.675 Train0.634375 RS138\n",
      "Test0.7 Train0.628125 RS139\n",
      "Test0.7125 Train0.63125 RS141\n",
      "Test0.725 Train0.621875 RS142\n",
      "Test0.6625 Train0.6375 RS143\n",
      "Test0.6625 Train0.6375 RS145\n",
      "Test0.7125 Train0.625 RS150\n",
      "Test0.65 Train0.640625 RS152\n",
      "Test0.6625 Train0.6375 RS154\n",
      "Test0.675 Train0.634375 RS155\n",
      "Test0.8875 Train0.834375 RS158\n",
      "Test0.6625 Train0.6375 RS159\n",
      "Test0.7125 Train0.625 RS161\n",
      "Test0.675 Train0.634375 RS162\n",
      "Test0.6625 Train0.6375 RS163\n",
      "Test0.65 Train0.640625 RS165\n",
      "Test0.6625 Train0.6375 RS169\n",
      "Test0.675 Train0.634375 RS170\n",
      "Test0.7125 Train0.625 RS173\n",
      "Test0.65 Train0.640625 RS176\n",
      "Test0.6625 Train0.6375 RS178\n",
      "Test0.6625 Train0.6375 RS179\n",
      "Test0.6625 Train0.6375 RS180\n",
      "Test0.6625 Train0.6375 RS181\n",
      "Test0.65 Train0.640625 RS184\n",
      "Test0.6625 Train0.6375 RS185\n",
      "Test0.675 Train0.634375 RS188\n",
      "Test0.7375 Train0.61875 RS189\n",
      "Test0.7 Train0.628125 RS192\n",
      "Test0.65 Train0.640625 RS193\n",
      "Test0.7 Train0.628125 RS194\n",
      "Test0.65 Train0.640625 RS195\n",
      "Test0.6625 Train0.6375 RS196\n",
      "Test0.675 Train0.634375 RS198\n",
      "Test0.8875 Train0.8375 RS199\n",
      "Test0.6875 Train0.63125 RS204\n",
      "Test0.6625 Train0.6375 RS209\n",
      "Test0.7 Train0.628125 RS211\n",
      "Test0.65 Train0.640625 RS212\n",
      "Test0.6625 Train0.6375 RS215\n",
      "Test0.6625 Train0.6375 RS217\n",
      "Test0.6875 Train0.63125 RS220\n",
      "Test0.6625 Train0.6375 RS223\n",
      "Test0.6625 Train0.6375 RS225\n",
      "Test0.6625 Train0.6375 RS226\n",
      "Test0.6875 Train0.63125 RS229\n",
      "Test0.65 Train0.640625 RS232\n",
      "Test0.7125 Train0.625 RS233\n",
      "Test0.6625 Train0.6375 RS234\n",
      "Test0.6625 Train0.6375 RS235\n",
      "Test0.6875 Train0.63125 RS238\n",
      "Test0.725 Train0.621875 RS239\n",
      "Test0.65 Train0.640625 RS241\n",
      "Test0.725 Train0.621875 RS242\n",
      "Test0.6625 Train0.6375 RS244\n",
      "Test0.675 Train0.634375 RS245\n",
      "Test0.6875 Train0.63125 RS246\n",
      "Test0.7 Train0.628125 RS247\n",
      "Test0.6875 Train0.63125 RS248\n",
      "Test0.65 Train0.640625 RS251\n",
      "Test0.7 Train0.628125 RS252\n",
      "Test0.65 Train0.640625 RS253\n",
      "Test0.675 Train0.634375 RS255\n",
      "Test0.75 Train0.615625 RS257\n",
      "Test0.7 Train0.628125 RS260\n",
      "Test0.6625 Train0.6375 RS261\n",
      "Test0.65 Train0.640625 RS263\n",
      "Test0.6625 Train0.6375 RS265\n",
      "Test0.8625 Train0.840625 RS266\n",
      "Test0.6875 Train0.63125 RS269\n",
      "Test0.6625 Train0.6375 RS275\n",
      "Test0.7 Train0.628125 RS276\n",
      "Test0.6625 Train0.6375 RS277\n",
      "Test0.7 Train0.628125 RS278\n",
      "Test0.7125 Train0.625 RS279\n",
      "Test0.6875 Train0.63125 RS282\n",
      "Test0.6875 Train0.63125 RS283\n",
      "Test0.7125 Train0.625 RS287\n",
      "Test0.6625 Train0.6375 RS292\n",
      "Test0.65 Train0.640625 RS293\n",
      "Test0.6625 Train0.6375 RS294\n",
      "Test0.675 Train0.634375 RS296\n",
      "Test0.675 Train0.634375 RS300\n",
      "Test0.675 Train0.634375 RS302\n",
      "Test0.6625 Train0.6375 RS303\n",
      "Test0.8625 Train0.834375 RS305\n",
      "Test0.6875 Train0.63125 RS306\n",
      "Test0.7 Train0.628125 RS310\n",
      "Test0.7125 Train0.625 RS311\n",
      "Test0.8625 Train0.834375 RS313\n",
      "Test0.9125 Train0.834375 RS314\n",
      "Test0.7 Train0.628125 RS315\n",
      "Test0.6625 Train0.6375 RS317\n",
      "Test0.7625 Train0.6125 RS318\n",
      "Test0.6625 Train0.6375 RS319\n",
      "Test0.65 Train0.640625 RS321\n",
      "Test0.7125 Train0.625 RS322\n",
      "Test0.675 Train0.634375 RS323\n",
      "Test0.6625 Train0.6375 RS325\n",
      "Test0.7125 Train0.625 RS327\n",
      "Test0.6625 Train0.6375 RS328\n",
      "Test0.7 Train0.628125 RS329\n",
      "Test0.65 Train0.640625 RS330\n",
      "Test0.65 Train0.640625 RS332\n",
      "Test0.675 Train0.634375 RS336\n",
      "Test0.6875 Train0.63125 RS340\n",
      "Test0.65 Train0.640625 RS344\n",
      "Test0.6625 Train0.6375 RS345\n",
      "Test0.7 Train0.628125 RS346\n",
      "Test0.65 Train0.640625 RS348\n",
      "Test0.725 Train0.621875 RS349\n",
      "Test0.6875 Train0.63125 RS350\n",
      "Test0.675 Train0.634375 RS352\n",
      "Test0.725 Train0.621875 RS353\n",
      "Test0.675 Train0.634375 RS354\n",
      "Test0.6875 Train0.63125 RS355\n",
      "Test0.6625 Train0.6375 RS356\n",
      "Test0.7375 Train0.61875 RS357\n",
      "Test0.6625 Train0.6375 RS358\n",
      "Test0.6625 Train0.6375 RS359\n",
      "Test0.7 Train0.628125 RS360\n",
      "Test0.65 Train0.640625 RS361\n",
      "Test0.6625 Train0.6375 RS362\n",
      "Test0.65 Train0.640625 RS363\n",
      "Test0.6625 Train0.6375 RS364\n",
      "Test0.6875 Train0.63125 RS365\n",
      "Test0.6625 Train0.6375 RS366\n",
      "Test0.6625 Train0.6375 RS368\n",
      "Test0.65 Train0.640625 RS370\n",
      "Test0.725 Train0.621875 RS371\n",
      "Test0.65 Train0.640625 RS373\n",
      "Test0.7 Train0.628125 RS376\n",
      "Test0.6875 Train0.63125 RS378\n",
      "Test0.675 Train0.634375 RS379\n",
      "Test0.65 Train0.640625 RS387\n",
      "Test0.6625 Train0.6375 RS393\n",
      "Test0.675 Train0.634375 RS396\n",
      "Test0.7 Train0.628125 RS397\n"
     ]
    }
   ],
   "source": [
    "for i in range(1,400):\n",
    "    X_train,X_test,y_train,y_test=train_test_split(features,labels,test_size=0.2,random_state=i)\n",
    "    model=LogisticRegression()\n",
    "    model.fit(X_train,y_train)\n",
    "    \n",
    "    train_s=model.score(X_train,y_train)\n",
    "    test_s=model.score(X_test,y_test)\n",
    "    \n",
    "    if test_s>train_s:\n",
    "        print(\"Test{} Train{} RS{}\".format(test_s,train_s,i))\n",
    "\n",
    "    \n",
    "    "
   ]
  },
  {
   "cell_type": "code",
   "execution_count": 51,
   "metadata": {},
   "outputs": [],
   "source": [
    "from sklearn.model_selection import train_test_split\n",
    "X_train,X_test,y_train,y_test=train_test_split(features,labels,test_size=0.2,random_state=4)"
   ]
  },
  {
   "cell_type": "code",
   "execution_count": 54,
   "metadata": {},
   "outputs": [
    {
     "data": {
      "text/plain": [
       "LogisticRegression()"
      ]
     },
     "execution_count": 54,
     "metadata": {},
     "output_type": "execute_result"
    }
   ],
   "source": [
    "# create model\n",
    "\n",
    "from sklearn.linear_model import LogisticRegression\n",
    "model1=LogisticRegression()\n",
    "model1.fit(X_train,y_train)"
   ]
  },
  {
   "cell_type": "code",
   "execution_count": 55,
   "metadata": {},
   "outputs": [
    {
     "name": "stdout",
     "output_type": "stream",
     "text": [
      "0.61875\n",
      "0.7375\n"
     ]
    }
   ],
   "source": [
    "# Ensure your model is a generlaized model\n",
    "\n",
    "print(model1.score(X_train,y_train))\n",
    "print(model1.score(X_test,y_test))"
   ]
  },
  {
   "cell_type": "code",
   "execution_count": 47,
   "metadata": {},
   "outputs": [],
   "source": [
    "from sklearn.metrics import confusion_matrix,classification_report\n"
   ]
  },
  {
   "cell_type": "code",
   "execution_count": 56,
   "metadata": {},
   "outputs": [
    {
     "data": {
      "text/plain": [
       "array([[59,  0],\n",
       "       [21,  0]], dtype=int64)"
      ]
     },
     "execution_count": 56,
     "metadata": {},
     "output_type": "execute_result"
    }
   ],
   "source": [
    "confusion_matrix(y_test,model1.predict(X_test))"
   ]
  },
  {
   "cell_type": "code",
   "execution_count": 58,
   "metadata": {},
   "outputs": [
    {
     "name": "stdout",
     "output_type": "stream",
     "text": [
      "              precision    recall  f1-score   support\n",
      "\n",
      "           0       0.64      1.00      0.78       257\n",
      "           1       0.00      0.00      0.00       143\n",
      "\n",
      "    accuracy                           0.64       400\n",
      "   macro avg       0.32      0.50      0.39       400\n",
      "weighted avg       0.41      0.64      0.50       400\n",
      "\n"
     ]
    }
   ],
   "source": [
    "print(classification_report(labels,model1.predict(features)))"
   ]
  },
  {
   "cell_type": "code",
   "execution_count": null,
   "metadata": {},
   "outputs": [],
   "source": []
  }
 ],
 "metadata": {
  "kernelspec": {
   "display_name": "Python 3",
   "language": "python",
   "name": "python3"
  },
  "language_info": {
   "codemirror_mode": {
    "name": "ipython",
    "version": 3
   },
   "file_extension": ".py",
   "mimetype": "text/x-python",
   "name": "python",
   "nbconvert_exporter": "python",
   "pygments_lexer": "ipython3",
   "version": "3.8.3"
  }
 },
 "nbformat": 4,
 "nbformat_minor": 4
}
